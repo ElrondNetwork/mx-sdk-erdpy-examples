{
 "cells": [
  {
   "cell_type": "markdown",
   "metadata": {},
   "source": [
    "## Addresses"
   ]
  },
  {
   "cell_type": "markdown",
   "metadata": {},
   "source": [
    "Create an `Address` object from a _bech32-encoded_ string:"
   ]
  },
  {
   "cell_type": "code",
   "execution_count": 7,
   "metadata": {},
   "outputs": [
    {
     "name": "stdout",
     "output_type": "stream",
     "text": [
      "Address (bech32-encoded) erd1qyu5wthldzr8wx5c9ucg8kjagg0jfs53s8nr3zpz3hypefsdd8ssycr6th\n",
      "Public key (hex-encoded): 0139472eff6886771a982f3083da5d421f24c29181e63888228dc81ca60d69e1\n",
      "Public key (hex-encoded): 0139472eff6886771a982f3083da5d421f24c29181e63888228dc81ca60d69e1\n"
     ]
    }
   ],
   "source": [
    "from erdpy_core import Address\n",
    "\n",
    "address = Address.from_bech32(\"erd1qyu5wthldzr8wx5c9ucg8kjagg0jfs53s8nr3zpz3hypefsdd8ssycr6th\")\n",
    "\n",
    "print(\"Address (bech32-encoded)\", address.bech32())\n",
    "print(\"Public key (hex-encoded):\", address.hex())\n",
    "print(\"Public key (hex-encoded):\", address.pubkey.hex())"
   ]
  },
  {
   "cell_type": "markdown",
   "metadata": {},
   "source": [
    "... or from a _hex-encoded_ string - note that you have to provide the address prefix, also known as the **HRP** (_human-readable part_ of the address):"
   ]
  },
  {
   "cell_type": "code",
   "execution_count": 8,
   "metadata": {},
   "outputs": [],
   "source": [
    "address = Address.from_hex(\"0139472eff6886771a982f3083da5d421f24c29181e63888228dc81ca60d69e1\", \"erd\");"
   ]
  },
  {
   "cell_type": "markdown",
   "metadata": {},
   "source": [
    "... or from a raw public key:"
   ]
  },
  {
   "cell_type": "code",
   "execution_count": 9,
   "metadata": {},
   "outputs": [],
   "source": [
    "pubkey = bytes.fromhex(\"0139472eff6886771a982f3083da5d421f24c29181e63888228dc81ca60d69e1\")\n",
    "address = Address(pubkey, \"erd\")"
   ]
  },
  {
   "cell_type": "markdown",
   "metadata": {},
   "source": [
    "Alternatively, you can use an `AddressFactory` (initialized with a specific **HRP**) to create addresses:"
   ]
  },
  {
   "cell_type": "code",
   "execution_count": 10,
   "metadata": {},
   "outputs": [],
   "source": [
    "from erdpy_core import AddressFactory\n",
    "\n",
    "factory = AddressFactory(\"erd\")\n",
    "\n",
    "address = factory.create_from_bech32(\"erd1qyu5wthldzr8wx5c9ucg8kjagg0jfs53s8nr3zpz3hypefsdd8ssycr6th\")\n",
    "address = factory.create_from_hex(\"0139472eff6886771a982f3083da5d421f24c29181e63888228dc81ca60d69e1\")\n",
    "address = factory.create_from_pubkey(bytes.fromhex(\"0139472eff6886771a982f3083da5d421f24c29181e63888228dc81ca60d69e1\"))"
   ]
  },
  {
   "cell_type": "markdown",
   "metadata": {},
   "source": [
    "As seen above, addresses can be converted from one representation to another as follows:"
   ]
  },
  {
   "cell_type": "code",
   "execution_count": 11,
   "metadata": {},
   "outputs": [
    {
     "name": "stdout",
     "output_type": "stream",
     "text": [
      "erd1qyu5wthldzr8wx5c9ucg8kjagg0jfs53s8nr3zpz3hypefsdd8ssycr6th\n",
      "0139472eff6886771a982f3083da5d421f24c29181e63888228dc81ca60d69e1\n"
     ]
    }
   ],
   "source": [
    "print(address.bech32())\n",
    "print(address.hex())"
   ]
  },
  {
   "cell_type": "markdown",
   "metadata": {},
   "source": [
    "... or using a converter:"
   ]
  },
  {
   "cell_type": "code",
   "execution_count": 12,
   "metadata": {},
   "outputs": [],
   "source": [
    "from erdpy_core import AddressConverter\n",
    "\n",
    "converter = AddressConverter(\"erd\")\n",
    "\n",
    "pubkey = converter.bech32_to_pubkey(\"erd1qyu5wthldzr8wx5c9ucg8kjagg0jfs53s8nr3zpz3hypefsdd8ssycr6th\")\n",
    "bech32 = converter.pubkey_to_bech32(bytes.fromhex(\"0139472eff6886771a982f3083da5d421f24c29181e63888228dc81ca60d69e1\"))"
   ]
  },
  {
   "cell_type": "markdown",
   "metadata": {},
   "source": [
    "Getting the shard of an address:"
   ]
  },
  {
   "cell_type": "code",
   "execution_count": 13,
   "metadata": {},
   "outputs": [
    {
     "name": "stdout",
     "output_type": "stream",
     "text": [
      "Shard: 1\n"
     ]
    }
   ],
   "source": [
    "print(\"Shard:\", address.get_shard())"
   ]
  },
  {
   "cell_type": "markdown",
   "metadata": {},
   "source": [
    "Checking whether an address is a smart contract:"
   ]
  },
  {
   "cell_type": "code",
   "execution_count": 14,
   "metadata": {},
   "outputs": [
    {
     "name": "stdout",
     "output_type": "stream",
     "text": [
      "Is contract: True\n"
     ]
    }
   ],
   "source": [
    "address = Address.from_bech32(\"erd1qqqqqqqqqqqqqpgquzmh78klkqwt0p4rjys0qtp3la07gz4d396qn50nnm\")\n",
    "\n",
    "print(\"Is contract:\", address.is_smart_contract())"
   ]
  },
  {
   "cell_type": "markdown",
   "metadata": {},
   "source": [
    "## Transactions"
   ]
  },
  {
   "cell_type": "markdown",
   "metadata": {},
   "source": [
    "In this section, we'll learn to build several types of transactions.\n",
    "\n",
    "In order to sign transactions, follow [this](#signing-objects).\n",
    "\n",
    "In order to broadcast transactions, follow [this](#broadcasting-transactions)."
   ]
  },
  {
   "cell_type": "markdown",
   "metadata": {},
   "source": [
    "### EGLD transfers"
   ]
  },
  {
   "cell_type": "code",
   "execution_count": 15,
   "metadata": {},
   "outputs": [
    {
     "name": "stdout",
     "output_type": "stream",
     "text": [
      "OrderedDict([('nonce', 90), ('value', '1000000000000000000'), ('receiver', 'erd1spyavw0956vq68xj8y4tenjpq2wd5a9p2c6j8gsz7ztyrnpxrruqzu66jx'), ('sender', 'erd1qyu5wthldzr8wx5c9ucg8kjagg0jfs53s8nr3zpz3hypefsdd8ssycr6th'), ('gasPrice', 1000000000), ('gasLimit', 50000), ('chainID', 'D'), ('version', 1), ('signature', '')])\n"
     ]
    }
   ],
   "source": [
    "from erdpy_core import Address, TokenPayment, Transaction\n",
    "\n",
    "tx = Transaction(\n",
    "    nonce=90,\n",
    "    sender=Address.from_bech32(\"erd1qyu5wthldzr8wx5c9ucg8kjagg0jfs53s8nr3zpz3hypefsdd8ssycr6th\"),\n",
    "    receiver=Address.from_bech32(\"erd1spyavw0956vq68xj8y4tenjpq2wd5a9p2c6j8gsz7ztyrnpxrruqzu66jx\"),\n",
    "    value=TokenPayment.egld_from_amount(\"1.0\"),\n",
    "    gas_limit=50000,\n",
    "    gas_price=1000000000,\n",
    "    chain_id=\"D\",\n",
    "    version=1\n",
    ")\n",
    "\n",
    "print(tx.to_dictionary())"
   ]
  },
  {
   "cell_type": "markdown",
   "metadata": {},
   "source": [
    "Same as above, but with a payload (data):"
   ]
  },
  {
   "cell_type": "code",
   "execution_count": 16,
   "metadata": {},
   "outputs": [
    {
     "name": "stdout",
     "output_type": "stream",
     "text": [
      "OrderedDict([('nonce', 91), ('value', '3000000000000000000'), ('receiver', 'erd1spyavw0956vq68xj8y4tenjpq2wd5a9p2c6j8gsz7ztyrnpxrruqzu66jx'), ('sender', 'erd1qyu5wthldzr8wx5c9ucg8kjagg0jfs53s8nr3zpz3hypefsdd8ssycr6th'), ('gasPrice', 1000000000), ('gasLimit', 68000), ('data', 'Zm9yIHRoZSBib29r'), ('chainID', 'D'), ('version', 1), ('signature', '')])\n"
     ]
    }
   ],
   "source": [
    "from erdpy_core import TransactionPayload\n",
    "\n",
    "data = TransactionPayload.from_str(\"for the book\")\n",
    "\n",
    "tx = Transaction(\n",
    "    nonce=91,\n",
    "    sender=Address.from_bech32(\"erd1qyu5wthldzr8wx5c9ucg8kjagg0jfs53s8nr3zpz3hypefsdd8ssycr6th\"),\n",
    "    receiver=Address.from_bech32(\"erd1spyavw0956vq68xj8y4tenjpq2wd5a9p2c6j8gsz7ztyrnpxrruqzu66jx\"),\n",
    "    value=TokenPayment.egld_from_amount(\"3.0\"),\n",
    "    data=data,\n",
    "    gas_limit=50000 + 1500 * data.length(),\n",
    "    gas_price=1000000000,\n",
    "    chain_id=\"D\",\n",
    "    version=1\n",
    ")\n",
    "\n",
    "print(tx.to_dictionary())"
   ]
  },
  {
   "cell_type": "markdown",
   "metadata": {},
   "source": [
    "### Token transfers"
   ]
  },
  {
   "cell_type": "markdown",
   "metadata": {},
   "source": [
    "Create a single ESDT transfer:"
   ]
  },
  {
   "cell_type": "code",
   "execution_count": null,
   "metadata": {},
   "outputs": [],
   "source": []
  },
  {
   "cell_type": "markdown",
   "metadata": {},
   "source": [
    "## Signing objects"
   ]
  },
  {
   "cell_type": "markdown",
   "metadata": {},
   "source": [
    "## Broadcasting transactions"
   ]
  }
 ],
 "metadata": {
  "kernelspec": {
   "display_name": "Python 3.8.10 ('.venv': venv)",
   "language": "python",
   "name": "python3"
  },
  "language_info": {
   "codemirror_mode": {
    "name": "ipython",
    "version": 3
   },
   "file_extension": ".py",
   "mimetype": "text/x-python",
   "name": "python",
   "nbconvert_exporter": "python",
   "pygments_lexer": "ipython3",
   "version": "3.8.10"
  },
  "orig_nbformat": 4,
  "vscode": {
   "interpreter": {
    "hash": "57226656631494d11a789f2635386e1494fe3dc56fce05f011a90952879c0fd7"
   }
  }
 },
 "nbformat": 4,
 "nbformat_minor": 2
}
