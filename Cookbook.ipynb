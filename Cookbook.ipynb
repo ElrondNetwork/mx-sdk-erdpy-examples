{
 "cells": [
  {
   "cell_type": "markdown",
   "metadata": {},
   "source": [
    "## Addresses"
   ]
  },
  {
   "cell_type": "markdown",
   "metadata": {},
   "source": [
    "Create an `Address` object from a _bech32-encoded_ string:"
   ]
  },
  {
   "cell_type": "code",
   "execution_count": 122,
   "metadata": {},
   "outputs": [
    {
     "name": "stdout",
     "output_type": "stream",
     "text": [
      "Address (bech32-encoded) erd1qyu5wthldzr8wx5c9ucg8kjagg0jfs53s8nr3zpz3hypefsdd8ssycr6th\n",
      "Public key (hex-encoded): 0139472eff6886771a982f3083da5d421f24c29181e63888228dc81ca60d69e1\n",
      "Public key (hex-encoded): 0139472eff6886771a982f3083da5d421f24c29181e63888228dc81ca60d69e1\n"
     ]
    }
   ],
   "source": [
    "from multiversx_sdk_core import Address\n",
    "\n",
    "address = Address.from_bech32(\"erd1qyu5wthldzr8wx5c9ucg8kjagg0jfs53s8nr3zpz3hypefsdd8ssycr6th\")\n",
    "\n",
    "print(\"Address (bech32-encoded)\", address.bech32())\n",
    "print(\"Public key (hex-encoded):\", address.hex())\n",
    "print(\"Public key (hex-encoded):\", address.pubkey.hex())\n"
   ]
  },
  {
   "cell_type": "markdown",
   "metadata": {},
   "source": [
    "... or from a _hex-encoded_ string - note that you have to provide the address prefix, also known as the **HRP** (_human-readable part_ of the address):"
   ]
  },
  {
   "cell_type": "code",
   "execution_count": 123,
   "metadata": {},
   "outputs": [],
   "source": [
    "address = Address.from_hex(\"0139472eff6886771a982f3083da5d421f24c29181e63888228dc81ca60d69e1\", \"erd\")\n"
   ]
  },
  {
   "cell_type": "markdown",
   "metadata": {},
   "source": [
    "... or from a raw public key:"
   ]
  },
  {
   "cell_type": "code",
   "execution_count": 124,
   "metadata": {},
   "outputs": [],
   "source": [
    "pubkey = bytes.fromhex(\"0139472eff6886771a982f3083da5d421f24c29181e63888228dc81ca60d69e1\")\n",
    "address = Address(pubkey, \"erd\")\n"
   ]
  },
  {
   "cell_type": "markdown",
   "metadata": {},
   "source": [
    "Alternatively, you can use an `AddressFactory` (initialized with a specific **HRP**) to create addresses:"
   ]
  },
  {
   "cell_type": "code",
   "execution_count": 125,
   "metadata": {},
   "outputs": [],
   "source": [
    "from multiversx_sdk_core import AddressFactory\n",
    "\n",
    "factory = AddressFactory(\"erd\")\n",
    "\n",
    "address = factory.create_from_bech32(\"erd1qyu5wthldzr8wx5c9ucg8kjagg0jfs53s8nr3zpz3hypefsdd8ssycr6th\")\n",
    "address = factory.create_from_hex(\"0139472eff6886771a982f3083da5d421f24c29181e63888228dc81ca60d69e1\")\n",
    "address = factory.create_from_pubkey(bytes.fromhex(\"0139472eff6886771a982f3083da5d421f24c29181e63888228dc81ca60d69e1\"))\n"
   ]
  },
  {
   "cell_type": "markdown",
   "metadata": {},
   "source": [
    "Addresses can be converted from one representation to another as follows:"
   ]
  },
  {
   "cell_type": "code",
   "execution_count": 126,
   "metadata": {},
   "outputs": [
    {
     "name": "stdout",
     "output_type": "stream",
     "text": [
      "erd1qyu5wthldzr8wx5c9ucg8kjagg0jfs53s8nr3zpz3hypefsdd8ssycr6th\n",
      "0139472eff6886771a982f3083da5d421f24c29181e63888228dc81ca60d69e1\n"
     ]
    }
   ],
   "source": [
    "print(address.bech32())\n",
    "print(address.hex())\n"
   ]
  },
  {
   "cell_type": "markdown",
   "metadata": {},
   "source": [
    "... or using a converter:"
   ]
  },
  {
   "cell_type": "code",
   "execution_count": 127,
   "metadata": {},
   "outputs": [],
   "source": [
    "from multiversx_sdk_core import AddressConverter\n",
    "\n",
    "converter = AddressConverter(\"erd\")\n",
    "\n",
    "pubkey = converter.bech32_to_pubkey(\"erd1qyu5wthldzr8wx5c9ucg8kjagg0jfs53s8nr3zpz3hypefsdd8ssycr6th\")\n",
    "bech32 = converter.pubkey_to_bech32(bytes.fromhex(\"0139472eff6886771a982f3083da5d421f24c29181e63888228dc81ca60d69e1\"))\n"
   ]
  },
  {
   "cell_type": "markdown",
   "metadata": {},
   "source": [
    "Getting the shard of an address:"
   ]
  },
  {
   "cell_type": "code",
   "execution_count": 128,
   "metadata": {},
   "outputs": [
    {
     "name": "stdout",
     "output_type": "stream",
     "text": [
      "Shard: 1\n"
     ]
    }
   ],
   "source": [
    "print(\"Shard:\", address.get_shard())\n"
   ]
  },
  {
   "cell_type": "markdown",
   "metadata": {},
   "source": [
    "Checking whether an address is a smart contract:"
   ]
  },
  {
   "cell_type": "code",
   "execution_count": 129,
   "metadata": {},
   "outputs": [
    {
     "name": "stdout",
     "output_type": "stream",
     "text": [
      "Is contract: True\n"
     ]
    }
   ],
   "source": [
    "address = Address.from_bech32(\"erd1qqqqqqqqqqqqqpgquzmh78klkqwt0p4rjys0qtp3la07gz4d396qn50nnm\")\n",
    "\n",
    "print(\"Is contract:\", address.is_smart_contract())\n"
   ]
  },
  {
   "cell_type": "markdown",
   "metadata": {},
   "source": [
    "## EGLD / ESDT transfers"
   ]
  },
  {
   "cell_type": "markdown",
   "metadata": {},
   "source": [
    "Create an EGLD transfer:"
   ]
  },
  {
   "cell_type": "code",
   "execution_count": 130,
   "metadata": {},
   "outputs": [
    {
     "name": "stdout",
     "output_type": "stream",
     "text": [
      "OrderedDict([('nonce', 90), ('value', '1000000000000000000'), ('receiver', 'erd1spyavw0956vq68xj8y4tenjpq2wd5a9p2c6j8gsz7ztyrnpxrruqzu66jx'), ('sender', 'erd1qyu5wthldzr8wx5c9ucg8kjagg0jfs53s8nr3zpz3hypefsdd8ssycr6th'), ('gasPrice', 1000000000), ('gasLimit', 50000), ('chainID', 'D'), ('version', 1), ('signature', '')])\n"
     ]
    }
   ],
   "source": [
    "from multiversx_sdk_core import Address, TokenPayment, Transaction\n",
    "\n",
    "tx = Transaction(\n",
    "    nonce=90,\n",
    "    sender=Address.from_bech32(\"erd1qyu5wthldzr8wx5c9ucg8kjagg0jfs53s8nr3zpz3hypefsdd8ssycr6th\"),\n",
    "    receiver=Address.from_bech32(\"erd1spyavw0956vq68xj8y4tenjpq2wd5a9p2c6j8gsz7ztyrnpxrruqzu66jx\"),\n",
    "    value=TokenPayment.egld_from_amount(\"1.0\"),\n",
    "    gas_limit=50000,\n",
    "    gas_price=1000000000,\n",
    "    chain_id=\"D\",\n",
    "    version=1\n",
    ")\n",
    "\n",
    "print(tx.to_dictionary())\n"
   ]
  },
  {
   "cell_type": "markdown",
   "metadata": {},
   "source": [
    "In case you are using a **guarded** account you should also provide the _guardian_ argument when creating the transaction."
   ]
  },
  {
   "cell_type": "markdown",
   "metadata": {},
   "source": [
    "We'll see later how to [sign](#signing-objects) and [broadcast](#broadcasting-transactions) a transaction."
   ]
  },
  {
   "cell_type": "markdown",
   "metadata": {},
   "source": [
    "Create an EGLD transfer, but this time with a payload (data):"
   ]
  },
  {
   "cell_type": "code",
   "execution_count": 131,
   "metadata": {},
   "outputs": [
    {
     "name": "stdout",
     "output_type": "stream",
     "text": [
      "OrderedDict([('nonce', 91), ('value', '3000000000000000000'), ('receiver', 'erd1spyavw0956vq68xj8y4tenjpq2wd5a9p2c6j8gsz7ztyrnpxrruqzu66jx'), ('sender', 'erd1qyu5wthldzr8wx5c9ucg8kjagg0jfs53s8nr3zpz3hypefsdd8ssycr6th'), ('gasPrice', 1000000000), ('gasLimit', 68000), ('data', 'Zm9yIHRoZSBib29r'), ('chainID', 'D'), ('version', 1), ('signature', '')])\n"
     ]
    }
   ],
   "source": [
    "from multiversx_sdk_core import TransactionPayload\n",
    "\n",
    "data = TransactionPayload.from_str(\"for the book\")\n",
    "\n",
    "tx = Transaction(\n",
    "    nonce=91,\n",
    "    sender=Address.from_bech32(\"erd1qyu5wthldzr8wx5c9ucg8kjagg0jfs53s8nr3zpz3hypefsdd8ssycr6th\"),\n",
    "    receiver=Address.from_bech32(\"erd1spyavw0956vq68xj8y4tenjpq2wd5a9p2c6j8gsz7ztyrnpxrruqzu66jx\"),\n",
    "    value=TokenPayment.egld_from_amount(\"3.0\"),\n",
    "    data=data,\n",
    "    gas_limit=50000 + 1500 * data.length(),\n",
    "    gas_price=1000000000,\n",
    "    chain_id=\"D\",\n",
    "    version=1\n",
    ")\n",
    "\n",
    "print(tx.to_dictionary())\n"
   ]
  },
  {
   "cell_type": "markdown",
   "metadata": {},
   "source": [
    "Alternatively, we can create an EGLD transfer using a **transaction builder** (as we will see below, transaction builders are more commonly used). But before that, we have to create a configuration object (for any builder that we might use):"
   ]
  },
  {
   "cell_type": "code",
   "execution_count": 132,
   "metadata": {},
   "outputs": [],
   "source": [
    "from multiversx_sdk_core.transaction_builders import DefaultTransactionBuildersConfiguration\n",
    "\n",
    "config = DefaultTransactionBuildersConfiguration(chain_id=\"D\")\n"
   ]
  },
  {
   "cell_type": "markdown",
   "metadata": {},
   "source": [
    "The **transaction builder** is parametrized at instantiation, and the transaction is obtained by invoking the `build()` method:"
   ]
  },
  {
   "cell_type": "code",
   "execution_count": 133,
   "metadata": {},
   "outputs": [
    {
     "name": "stdout",
     "output_type": "stream",
     "text": [
      "Transaction: OrderedDict([('nonce', 42), ('value', '1000000000000000000'), ('receiver', 'erd1spyavw0956vq68xj8y4tenjpq2wd5a9p2c6j8gsz7ztyrnpxrruqzu66jx'), ('sender', 'erd1qyu5wthldzr8wx5c9ucg8kjagg0jfs53s8nr3zpz3hypefsdd8ssycr6th'), ('gasPrice', 1000000000), ('gasLimit', 68000), ('data', 'Zm9yIHRoZSBib29r'), ('chainID', 'D'), ('version', 2), ('signature', '')])\n",
      "Transaction data: for the book\n"
     ]
    }
   ],
   "source": [
    "from multiversx_sdk_core.transaction_builders import EGLDTransferBuilder\n",
    "\n",
    "alice = Address.from_bech32(\"erd1qyu5wthldzr8wx5c9ucg8kjagg0jfs53s8nr3zpz3hypefsdd8ssycr6th\")\n",
    "bob = Address.from_bech32(\"erd1spyavw0956vq68xj8y4tenjpq2wd5a9p2c6j8gsz7ztyrnpxrruqzu66jx\")\n",
    "payment = TokenPayment.egld_from_amount(\"1.00\")\n",
    "\n",
    "# With \"data\" field\n",
    "builder = EGLDTransferBuilder(\n",
    "    config=config,\n",
    "    sender=alice,\n",
    "    receiver=bob,\n",
    "    payment=payment,\n",
    "    data=\"for the book\",\n",
    "    # Nonce can be set now, or later, prior signing\n",
    "    nonce=42\n",
    ")\n",
    "\n",
    "tx = builder.build()\n",
    "print(\"Transaction:\", tx.to_dictionary())\n",
    "print(\"Transaction data:\", tx.data)\n"
   ]
  },
  {
   "cell_type": "markdown",
   "metadata": {},
   "source": [
    "Create a single ESDT transfer:"
   ]
  },
  {
   "cell_type": "code",
   "execution_count": 134,
   "metadata": {},
   "outputs": [
    {
     "name": "stdout",
     "output_type": "stream",
     "text": [
      "Transaction: OrderedDict([('nonce', 0), ('value', '0'), ('receiver', 'erd1spyavw0956vq68xj8y4tenjpq2wd5a9p2c6j8gsz7ztyrnpxrruqzu66jx'), ('sender', 'erd1qyu5wthldzr8wx5c9ucg8kjagg0jfs53s8nr3zpz3hypefsdd8ssycr6th'), ('gasPrice', 1000000000), ('gasLimit', 410000), ('data', 'RVNEVFRyYW5zZmVyQDU0NDU1MzU0MmQzODYyMzAzMjM4NjZAMjcxMA=='), ('chainID', 'D'), ('version', 2), ('signature', '')])\n",
      "Transaction data: ESDTTransfer@544553542d386230323866@2710\n"
     ]
    }
   ],
   "source": [
    "from multiversx_sdk_core.transaction_builders import ESDTTransferBuilder\n",
    "\n",
    "payment = TokenPayment.fungible_from_amount(\"TEST-8b028f\", \"100.00\", 2)\n",
    "\n",
    "builder = ESDTTransferBuilder(\n",
    "    config=config,\n",
    "    sender=alice,\n",
    "    receiver=bob,\n",
    "    payment=payment\n",
    ")\n",
    "\n",
    "tx = builder.build()\n",
    "print(\"Transaction:\", tx.to_dictionary())\n",
    "print(\"Transaction data:\", tx.data)\n"
   ]
  },
  {
   "cell_type": "markdown",
   "metadata": {},
   "source": [
    "Create a single NFT transfer:"
   ]
  },
  {
   "cell_type": "code",
   "execution_count": 135,
   "metadata": {},
   "outputs": [
    {
     "name": "stdout",
     "output_type": "stream",
     "text": [
      "Transaction: OrderedDict([('nonce', 0), ('value', '0'), ('receiver', 'erd1qyu5wthldzr8wx5c9ucg8kjagg0jfs53s8nr3zpz3hypefsdd8ssycr6th'), ('sender', 'erd1qyu5wthldzr8wx5c9ucg8kjagg0jfs53s8nr3zpz3hypefsdd8ssycr6th'), ('gasPrice', 1000000000), ('gasLimit', 1213500), ('data', 'RVNEVE5GVFRyYW5zZmVyQDU0NDU1MzU0MmQzMzM4NjYzMjM0MzlAMDFAMDFAODA0OWQ2MzllNWE2OTgwZDFjZDIzOTJhYmNjZTQxMDI5Y2RhNzRhMTU2MzUyM2EyMDJmMDk2NDFjYzI2MThmOA=='), ('chainID', 'D'), ('version', 2), ('signature', '')])\n",
      "Transaction data: ESDTNFTTransfer@544553542d333866323439@01@01@8049d639e5a6980d1cd2392abcce41029cda74a1563523a202f09641cc2618f8\n"
     ]
    }
   ],
   "source": [
    "from multiversx_sdk_core.transaction_builders import ESDTNFTTransferBuilder\n",
    "\n",
    "payment = TokenPayment.non_fungible(\"TEST-38f249\", 1)\n",
    "\n",
    "builder = ESDTNFTTransferBuilder(\n",
    "    config=config,\n",
    "    sender=alice,\n",
    "    destination=bob,\n",
    "    payment=payment\n",
    ")\n",
    "\n",
    "tx = builder.build()\n",
    "print(\"Transaction:\", tx.to_dictionary())\n",
    "print(\"Transaction data:\", tx.data)\n"
   ]
  },
  {
   "cell_type": "markdown",
   "metadata": {},
   "source": [
    "Create a single SFT transfer (almost the same as above, the only difference being that for the token payment object we additionally use a quantity, as an integer):"
   ]
  },
  {
   "cell_type": "code",
   "execution_count": 136,
   "metadata": {},
   "outputs": [
    {
     "name": "stdout",
     "output_type": "stream",
     "text": [
      "Transaction: OrderedDict([('nonce', 0), ('value', '0'), ('receiver', 'erd1qyu5wthldzr8wx5c9ucg8kjagg0jfs53s8nr3zpz3hypefsdd8ssycr6th'), ('sender', 'erd1qyu5wthldzr8wx5c9ucg8kjagg0jfs53s8nr3zpz3hypefsdd8ssycr6th'), ('gasPrice', 1000000000), ('gasLimit', 1213500), ('data', 'RVNEVE5GVFRyYW5zZmVyQDUzNDU0ZDQ5MmQzOTY1NjY2NDMwNjZAMDFAMDVAODA0OWQ2MzllNWE2OTgwZDFjZDIzOTJhYmNjZTQxMDI5Y2RhNzRhMTU2MzUyM2EyMDJmMDk2NDFjYzI2MThmOA=='), ('chainID', 'D'), ('version', 2), ('signature', '')])\n",
      "Transaction data: ESDTNFTTransfer@53454d492d396566643066@01@05@8049d639e5a6980d1cd2392abcce41029cda74a1563523a202f09641cc2618f8\n"
     ]
    }
   ],
   "source": [
    "payment = TokenPayment.semi_fungible(\"SEMI-9efd0f\", 1, 5)\n",
    "\n",
    "builder = ESDTNFTTransferBuilder(\n",
    "    config=config,\n",
    "    sender=alice,\n",
    "    destination=bob,\n",
    "    payment=payment\n",
    ")\n",
    "\n",
    "tx = builder.build()\n",
    "print(\"Transaction:\", tx.to_dictionary())\n",
    "print(\"Transaction data:\", tx.data)\n"
   ]
  },
  {
   "cell_type": "markdown",
   "metadata": {},
   "source": [
    "Create a multiple ESDT / NFT transfer:"
   ]
  },
  {
   "cell_type": "code",
   "execution_count": 137,
   "metadata": {},
   "outputs": [
    {
     "name": "stdout",
     "output_type": "stream",
     "text": [
      "Transaction: OrderedDict([('nonce', 0), ('value', '0'), ('receiver', 'erd1qyu5wthldzr8wx5c9ucg8kjagg0jfs53s8nr3zpz3hypefsdd8ssycr6th'), ('sender', 'erd1qyu5wthldzr8wx5c9ucg8kjagg0jfs53s8nr3zpz3hypefsdd8ssycr6th'), ('gasPrice', 1000000000), ('gasLimit', 2284000), ('data', 'TXVsdGlFU0RUTkZUVHJhbnNmZXJAODA0OWQ2MzllNWE2OTgwZDFjZDIzOTJhYmNjZTQxMDI5Y2RhNzRhMTU2MzUyM2EyMDJmMDk2NDFjYzI2MThmOEAwMkA1NDQ1NTM1NDJkMzMzODY2MzIzNDM5QDAxQDAxQDQyNDE1MjJkNjMzODMwNjQzMjM5QEA4YWM3MjMwNDg5ZTgwMDAw'), ('chainID', 'D'), ('version', 2), ('signature', '')])\n",
      "Transaction data: MultiESDTNFTTransfer@8049d639e5a6980d1cd2392abcce41029cda74a1563523a202f09641cc2618f8@02@544553542d333866323439@01@01@4241522d633830643239@@8ac7230489e80000\n"
     ]
    }
   ],
   "source": [
    "from multiversx_sdk_core.transaction_builders import MultiESDTNFTTransferBuilder\n",
    "\n",
    "payment_one = TokenPayment.non_fungible(\"TEST-38f249\", 1)\n",
    "payment_two = TokenPayment.fungible_from_amount(\"BAR-c80d29\", \"10.00\", 18)\n",
    "\n",
    "builder = MultiESDTNFTTransferBuilder(\n",
    "    config=config,\n",
    "    sender=alice,\n",
    "    destination=bob,\n",
    "    payments=[payment_one, payment_two]\n",
    ")\n",
    "\n",
    "tx = builder.build()\n",
    "print(\"Transaction:\", tx.to_dictionary())\n",
    "print(\"Transaction data:\", tx.data)\n"
   ]
  },
  {
   "cell_type": "markdown",
   "metadata": {},
   "source": [
    "## Relayed Transactions"
   ]
  },
  {
   "cell_type": "markdown",
   "metadata": {},
   "source": [
    "First, we get the newtwork configuration using the network providers."
   ]
  },
  {
   "cell_type": "code",
   "execution_count": 138,
   "metadata": {},
   "outputs": [],
   "source": [
    "from multiversx_sdk_network_providers import ProxyNetworkProvider\n",
    "\n",
    "provider = ProxyNetworkProvider(\"https://devnet-gateway.multiversx.com\")\n",
    "network_config = provider.get_network_config()\n"
   ]
  },
  {
   "cell_type": "markdown",
   "metadata": {},
   "source": [
    "### Relayed V1"
   ]
  },
  {
   "cell_type": "code",
   "execution_count": 139,
   "metadata": {},
   "outputs": [
    {
     "name": "stdout",
     "output_type": "stream",
     "text": [
      "OrderedDict([('nonce', 2627), ('value', '0'), ('receiver', 'erd1spyavw0956vq68xj8y4tenjpq2wd5a9p2c6j8gsz7ztyrnpxrruqzu66jx'), ('sender', 'erd1qyu5wthldzr8wx5c9ucg8kjagg0jfs53s8nr3zpz3hypefsdd8ssycr6th'), ('gasPrice', 1000000000), ('gasLimit', 61052000), ('data', 'cmVsYXllZFR4QDdiMjI2ZTZmNmU2MzY1MjIzYTMxMzkzODJjMjI3MzY1NmU2NDY1NzIyMjNhMjI2NzQ1NmU1NzRmNjU1NzZkNmQ0MTMwNjMzMDZhNmI3MTc2NGQzNTQyNDE3MDdhNjE2NDRiNDY1NzRlNTM0ZjY5NDE3NjQzNTc1MTYzNzc2ZDQ3NTA2NzNkMjIyYzIyNzI2NTYzNjU2OTc2NjU3MjIyM2EyMjQxNDE0MTQxNDE0MTQxNDE0MTQxNDE0NjQxNDE1OTQ2NGUyYjRkNGU1NTY5MzUzODY3NjI0MjMzMzUyYjYzNTY2NzczNGM1OTM5NzI2NzY1NjE2NTQ1M2QyMjJjMjI3NjYxNmM3NTY1MjIzYTMwMmMyMjY3NjE3MzUwNzI2OTYzNjUyMjNhMzEzMDMwMzAzMDMwMzAzMDMwMzAyYzIyNjc2MTczNGM2OTZkNjk3NDIyM2EzNjMwMzAzMDMwMzAzMDMwMmMyMjY0NjE3NDYxMjIzYTIyNTk1NzUyNmI1MTQ0NDEzMTIyMmMyMjczNjk2NzZlNjE3NDc1NzI2NTIyM2EyMjQ3NGM0MzM0NGE1OTM1NGMzMDc1NmY0YTRkNzA0ODc1MzQ0ODUwNTc2NzQ3NDE0ODQ3NmY0NzZhN2E0NzYxMzYzNTJiNzU0ODMwMzAyZjc3NGM1MTU5NDU1MTUyMzA2NDVhNGM2MzUxMzQ1NDZkNzE1NTM5NGI2ZDUxNWEzNTU0NzE2ZDRjNmU1MzUxMzQ1NjU3NDY2ZjM1NDM2Njc5Mzk2MzY0MmI2YzQzNDEzZDNkMjIyYzIyNjM2ODYxNjk2ZTQ5NDQyMjNhMjI1MjQxM2QzZDIyMmMyMjc2NjU3MjczNjk2ZjZlMjIzYTMyN2Q='), ('chainID', 'D'), ('version', 2), ('signature', '')])\n"
     ]
    }
   ],
   "source": [
    "from pathlib import Path\n",
    "from multiversx_sdk_core.transaction_builders.relayed_v1_builder import RelayedTransactionV1Builder\n",
    "from multiversx_sdk_core import Transaction, Address, TransactionPayload\n",
    "from multiversx_sdk_wallet.user_signer import UserSigner\n",
    "\n",
    "\n",
    "signer = UserSigner.from_pem_file(Path(\"./testwallets/bob.pem\"))\n",
    "\n",
    "inner_tx = Transaction(\n",
    "    chain_id=network_config.chain_id,\n",
    "    sender=Address.from_bech32(\"erd1spyavw0956vq68xj8y4tenjpq2wd5a9p2c6j8gsz7ztyrnpxrruqzu66jx\"),\n",
    "    receiver=Address.from_bech32(\"erd1qqqqqqqqqqqqqpgqqczn0ccd2gh8eqdswln7w9vzctv0dwq7d8ssm4y34z\"),\n",
    "    gas_limit=60000000,\n",
    "    nonce=198,\n",
    "    data=TransactionPayload.from_str(\"add@05\")\n",
    ")\n",
    "inner_tx.signature = signer.sign(inner_tx.serialize_for_signing())\n",
    "\n",
    "relayed_builder = RelayedTransactionV1Builder()\n",
    "relayed_builder.set_inner_transaction(inner_tx)\n",
    "relayed_builder.set_relayer_nonce(2627)\n",
    "relayed_builder.set_network_config(network_config)\n",
    "relayed_builder.set_relayer_address(Address.from_bech32(\"erd1qyu5wthldzr8wx5c9ucg8kjagg0jfs53s8nr3zpz3hypefsdd8ssycr6th\"))\n",
    "\n",
    "relayed_tx = relayed_builder.build()\n",
    "print(relayed_tx.to_dictionary())\n"
   ]
  },
  {
   "cell_type": "markdown",
   "metadata": {},
   "source": [
    "### Relayed V2"
   ]
  },
  {
   "cell_type": "code",
   "execution_count": 140,
   "metadata": {},
   "outputs": [
    {
     "name": "stdout",
     "output_type": "stream",
     "text": [
      "OrderedDict([('nonce', 37), ('value', '0'), ('receiver', 'erd1spyavw0956vq68xj8y4tenjpq2wd5a9p2c6j8gsz7ztyrnpxrruqzu66jx'), ('sender', 'erd1qyu5wthldzr8wx5c9ucg8kjagg0jfs53s8nr3zpz3hypefsdd8ssycr6th'), ('gasPrice', 1000000000), ('gasLimit', 60381500), ('data', 'cmVsYXllZFR4VjJAMDAwMDAwMDAwMDAwMDAwMDA1MDAwNjA1MzdlMzBkNTIyZTdjODFiMDc3ZTdlNzE1ODJjMmQ4ZjZiODFlNjllMUAwZkA2MTY0NjQ0MDMwMzVANjUwNzJhOTExOGRiMTQ3NDdhNGYxY2Y4NTdhNmU0MzczZTNlOWVhZDZlYTYwMzZmNTExMWJmNjg4MDNjNWNhZGZkYzQ0ZDM3YTIxYjkyMDQ0OWI1ZTgzYzc4Mzk3NTQyNWMzZjQ3NjAyMDE3M2FjMGZjNzE0ODE2NDZkNGE5MDA='), ('chainID', 'D'), ('version', 2), ('signature', '')])\n"
     ]
    }
   ],
   "source": [
    "from multiversx_sdk_core.transaction_builders.relayed_v2_builder import RelayedTransactionV2Builder\n",
    "from multiversx_sdk_core import Transaction, Address, TransactionPayload\n",
    "from multiversx_sdk_wallet.user_signer import UserSigner\n",
    "\n",
    "\n",
    "signer = UserSigner.from_pem_file(Path(\"./testwallets/bob.pem\"))\n",
    "\n",
    "inner_tx = Transaction(\n",
    "            chain_id=network_config.chain_id,\n",
    "            sender=Address.from_bech32(\"erd1spyavw0956vq68xj8y4tenjpq2wd5a9p2c6j8gsz7ztyrnpxrruqzu66jx\"),\n",
    "            receiver=Address.from_bech32(\"erd1qqqqqqqqqqqqqpgqqczn0ccd2gh8eqdswln7w9vzctv0dwq7d8ssm4y34z\"),\n",
    "            gas_limit=0,\n",
    "            nonce=15,\n",
    "            data=TransactionPayload.from_str(\"add@05\")\n",
    "        )\n",
    "inner_tx.signature = signer.sign(inner_tx.serialize_for_signing())\n",
    "\n",
    "builder = RelayedTransactionV2Builder()\n",
    "builder.set_inner_transaction(inner_tx)\n",
    "builder.set_inner_transaction_gas_limit(60_000_000)\n",
    "builder.set_relayer_nonce(37)\n",
    "builder.set_network_config(network_config)\n",
    "builder.set_relayer_address(Address.from_bech32(\"erd1qyu5wthldzr8wx5c9ucg8kjagg0jfs53s8nr3zpz3hypefsdd8ssycr6th\"))\n",
    "\n",
    "relayed_tx = builder.build()\n",
    "print(relayed_tx.to_dictionary())\n"
   ]
  },
  {
   "cell_type": "markdown",
   "metadata": {},
   "source": [
    "## Contract deployments and interactions"
   ]
  },
  {
   "cell_type": "markdown",
   "metadata": {},
   "source": [
    "Create a transaction to deploy a smart contract:"
   ]
  },
  {
   "cell_type": "code",
   "execution_count": 141,
   "metadata": {},
   "outputs": [
    {
     "name": "stdout",
     "output_type": "stream",
     "text": [
      "Transaction: OrderedDict([('nonce', 0), ('value', '0'), ('receiver', 'erd1qqqqqqqqqqqqqqqqqqqqqqqqqqqqqqqqqqqqqqqqqqqqqqqqqqqq6gq4hu'), ('sender', 'erd1qyu5wthldzr8wx5c9ucg8kjagg0jfs53s8nr3zpz3hypefsdd8ssycr6th'), ('gasPrice', 1000000000), ('gasLimit', 10000000), ('data', 'MDA2MTczNmQwMTAwMDAwMDAxMTUwNDYwMDM3ZjdmN2UwMTdmNjAwMjdmN2YwMTdlNjAwMTdlMDA2MDAwMDAwMjQyMDMwMzY1NmU3NjExNjk2ZTc0MzYzNDczNzQ2ZjcyNjE2NzY1NTM3NDZmNzI2NTAwMDAwMzY1NmU3NjEwNjk2ZTc0MzYzNDczNzQ2ZjcyNjE2NzY1NGM2ZjYxNjQwMDAxMDM2NTZlNzYwYjY5NmU3NDM2MzQ2NjY5NmU2OTczNjgwMDAyMDMwNTA0MDMwMzAzMDMwNDA1MDE3MDAxMDEwMTA1MDMwMTAwMDIwNjA4MDE3ZjAxNDE5MDg4MDQwYjA3MmYwNTA2NmQ2NTZkNmY3Mjc5MDIwMDA0Njk2ZTY5NzQwMDAzMDk2OTZlNjM3MjY1NmQ2NTZlNzQwMDA0MDk2NDY1NjM3MjY1NmQ2NTZlNzQwMDA1MDM2NzY1NzQwMDA2MGE4YTAxMDQxMzAwNDE4MDg4ODA4MDAwNDEwNzQyMDExMDgwODA4MDgwMDAxYTBiMmUwMTAxN2U0MTgwODg4MDgwMDA0MTA3NDE4MDg4ODA4MDAwNDEwNzEwODE4MDgwODAwMDQyMDE3YzIyMDAxMDgwODA4MDgwMDAxYTIwMDAxMDgyODA4MDgwMDAwYjJlMDEwMTdlNDE4MDg4ODA4MDAwNDEwNzQxODA4ODgwODAwMDQxMDcxMDgxODA4MDgwMDA0MjdmN2MyMjAwMTA4MDgwODA4MDAwMWEyMDAwMTA4MjgwODA4MDAwMGIxNjAwNDE4MDg4ODA4MDAwNDEwNzEwODE4MDgwODAwMDEwODI4MDgwODAwMDBiMGIwZjAxMDA0MTgwMDgwYjA4NDM0ZjU1NGU1NDQ1NTIwMEAwNTAwQDA1MDZAMmFANzQ2NTczNzQ='), ('chainID', 'D'), ('version', 2), ('signature', '')])\n",
      "Transaction data: 0061736d0100000001150460037f7f7e017f60027f7f017e60017e0060000002420303656e7611696e74363473746f7261676553746f7265000003656e7610696e74363473746f726167654c6f6164000103656e760b696e74363466696e6973680002030504030303030405017001010105030100020608017f01419088040b072f05066d656d6f7279020004696e6974000309696e6372656d656e7400040964656372656d656e7400050367657400060a8a01041300418088808000410742011080808080001a0b2e01017e4180888080004107418088808000410710818080800042017c22001080808080001a20001082808080000b2e01017e41808880800041074180888080004107108180808000427f7c22001080808080001a20001082808080000b160041808880800041071081808080001082808080000b0b0f01004180080b08434f554e54455200@0500@0506@2a@74657374\n"
     ]
    }
   ],
   "source": [
    "from pathlib import Path\n",
    "\n",
    "from multiversx_sdk_core import CodeMetadata\n",
    "from multiversx_sdk_core.transaction_builders import ContractDeploymentBuilder\n",
    "\n",
    "metadata = CodeMetadata(upgradeable=True, readable=True, payable=True, payable_by_contract=True)\n",
    "\n",
    "builder = ContractDeploymentBuilder(\n",
    "    config,\n",
    "    owner=alice,\n",
    "    deploy_arguments=[42, \"test\"],\n",
    "    code_metadata=metadata,\n",
    "    code=Path(\"./contracts/counter.wasm\").read_bytes(),\n",
    "    gas_limit=10000000\n",
    ")\n",
    "\n",
    "tx = builder.build()\n",
    "print(\"Transaction:\", tx.to_dictionary())\n",
    "print(\"Transaction data:\", tx.data)\n"
   ]
  },
  {
   "cell_type": "markdown",
   "metadata": {},
   "source": [
    "Create a transaction to upgrade an existing smart contract:"
   ]
  },
  {
   "cell_type": "code",
   "execution_count": 142,
   "metadata": {},
   "outputs": [
    {
     "name": "stdout",
     "output_type": "stream",
     "text": [
      "Transaction: OrderedDict([('nonce', 0), ('value', '0'), ('receiver', 'erd1qqqqqqqqqqqqqpgquzmh78klkqwt0p4rjys0qtp3la07gz4d396qn50nnm'), ('sender', 'erd1qyu5wthldzr8wx5c9ucg8kjagg0jfs53s8nr3zpz3hypefsdd8ssycr6th'), ('gasPrice', 1000000000), ('gasLimit', 10000000), ('data', 'dXBncmFkZUNvbnRyYWN0QDAwNjE3MzZkMDEwMDAwMDAwMTE1MDQ2MDAzN2Y3ZjdlMDE3ZjYwMDI3ZjdmMDE3ZTYwMDE3ZTAwNjAwMDAwMDI0MjAzMDM2NTZlNzYxMTY5NmU3NDM2MzQ3Mzc0NmY3MjYxNjc2NTUzNzQ2ZjcyNjUwMDAwMDM2NTZlNzYxMDY5NmU3NDM2MzQ3Mzc0NmY3MjYxNjc2NTRjNmY2MTY0MDAwMTAzNjU2ZTc2MGI2OTZlNzQzNjM0NjY2OTZlNjk3MzY4MDAwMjAzMDUwNDAzMDMwMzAzMDQwNTAxNzAwMTAxMDEwNTAzMDEwMDAyMDYwODAxN2YwMTQxOTA4ODA0MGIwNzJmMDUwNjZkNjU2ZDZmNzI3OTAyMDAwNDY5NmU2OTc0MDAwMzA5Njk2ZTYzNzI2NTZkNjU2ZTc0MDAwNDA5NjQ2NTYzNzI2NTZkNjU2ZTc0MDAwNTAzNjc2NTc0MDAwNjBhOGEwMTA0MTMwMDQxODA4ODgwODAwMDQxMDc0MjAxMTA4MDgwODA4MDAwMWEwYjJlMDEwMTdlNDE4MDg4ODA4MDAwNDEwNzQxODA4ODgwODAwMDQxMDcxMDgxODA4MDgwMDA0MjAxN2MyMjAwMTA4MDgwODA4MDAwMWEyMDAwMTA4MjgwODA4MDAwMGIyZTAxMDE3ZTQxODA4ODgwODAwMDQxMDc0MTgwODg4MDgwMDA0MTA3MTA4MTgwODA4MDAwNDI3ZjdjMjIwMDEwODA4MDgwODAwMDFhMjAwMDEwODI4MDgwODAwMDBiMTYwMDQxODA4ODgwODAwMDQxMDcxMDgxODA4MDgwMDAxMDgyODA4MDgwMDAwYjBiMGYwMTAwNDE4MDA4MGIwODQzNGY1NTRlNTQ0NTUyMDBAMDUwNkAyYUA3NDY1NzM3NA=='), ('chainID', 'D'), ('version', 2), ('signature', '')])\n",
      "Transaction data: upgradeContract@0061736d0100000001150460037f7f7e017f60027f7f017e60017e0060000002420303656e7611696e74363473746f7261676553746f7265000003656e7610696e74363473746f726167654c6f6164000103656e760b696e74363466696e6973680002030504030303030405017001010105030100020608017f01419088040b072f05066d656d6f7279020004696e6974000309696e6372656d656e7400040964656372656d656e7400050367657400060a8a01041300418088808000410742011080808080001a0b2e01017e4180888080004107418088808000410710818080800042017c22001080808080001a20001082808080000b2e01017e41808880800041074180888080004107108180808000427f7c22001080808080001a20001082808080000b160041808880800041071081808080001082808080000b0b0f01004180080b08434f554e54455200@0506@2a@74657374\n"
     ]
    }
   ],
   "source": [
    "from multiversx_sdk_core.transaction_builders import ContractUpgradeBuilder\n",
    "\n",
    "contract_address = Address.from_bech32(\"erd1qqqqqqqqqqqqqpgquzmh78klkqwt0p4rjys0qtp3la07gz4d396qn50nnm\")\n",
    "owner = Address.from_bech32(\"erd1qyu5wthldzr8wx5c9ucg8kjagg0jfs53s8nr3zpz3hypefsdd8ssycr6th\")\n",
    "metadata = CodeMetadata(upgradeable=True, readable=True, payable=True, payable_by_contract=True)\n",
    "\n",
    "builder = ContractUpgradeBuilder(\n",
    "    config,\n",
    "    contract=contract_address,\n",
    "    owner=owner,\n",
    "    upgrade_arguments=[42, \"test\"],\n",
    "    code_metadata=metadata,\n",
    "    code=Path(\"./contracts/counter.wasm\").read_bytes(),\n",
    "    gas_limit=10000000\n",
    ")\n",
    "\n",
    "tx = builder.build()\n",
    "print(\"Transaction:\", tx.to_dictionary())\n",
    "print(\"Transaction data:\", tx.data)\n"
   ]
  },
  {
   "cell_type": "markdown",
   "metadata": {},
   "source": [
    "Create a transaction that invokes a smart contract function:"
   ]
  },
  {
   "cell_type": "code",
   "execution_count": 143,
   "metadata": {},
   "outputs": [
    {
     "name": "stdout",
     "output_type": "stream",
     "text": [
      "Transaction: OrderedDict([('nonce', 0), ('value', '0'), ('receiver', 'erd1qqqqqqqqqqqqqpgquzmh78klkqwt0p4rjys0qtp3la07gz4d396qn50nnm'), ('sender', 'erd1qyu5wthldzr8wx5c9ucg8kjagg0jfs53s8nr3zpz3hypefsdd8ssycr6th'), ('gasPrice', 1000000000), ('gasLimit', 10000000), ('data', 'Zm9vQDJhQDc0NjU3Mzc0QDgwNDlkNjM5ZTVhNjk4MGQxY2QyMzkyYWJjY2U0MTAyOWNkYTc0YTE1NjM1MjNhMjAyZjA5NjQxY2MyNjE4Zjg='), ('chainID', 'D'), ('version', 2), ('signature', '')])\n",
      "Transaction data: foo@2a@74657374@8049d639e5a6980d1cd2392abcce41029cda74a1563523a202f09641cc2618f8\n"
     ]
    }
   ],
   "source": [
    "from multiversx_sdk_core.transaction_builders import ContractCallBuilder\n",
    "\n",
    "contract_address = Address.from_bech32(\"erd1qqqqqqqqqqqqqpgquzmh78klkqwt0p4rjys0qtp3la07gz4d396qn50nnm\")\n",
    "\n",
    "builder = ContractCallBuilder(\n",
    "    config,\n",
    "    contract=contract_address,\n",
    "    function_name=\"foo\",\n",
    "    caller=alice,\n",
    "    call_arguments=[42, \"test\", bob],\n",
    "    gas_limit=10000000\n",
    ")\n",
    "\n",
    "tx = builder.build()\n",
    "print(\"Transaction:\", tx.to_dictionary())\n",
    "print(\"Transaction data:\", tx.data)\n"
   ]
  },
  {
   "cell_type": "markdown",
   "metadata": {},
   "source": [
    "Now, let's create a call that also transfers one or more tokens (**transfer & execute**):"
   ]
  },
  {
   "cell_type": "code",
   "execution_count": 144,
   "metadata": {},
   "outputs": [
    {
     "name": "stdout",
     "output_type": "stream",
     "text": [
      "Transaction: OrderedDict([('nonce', 0), ('value', '0'), ('receiver', 'erd1qyu5wthldzr8wx5c9ucg8kjagg0jfs53s8nr3zpz3hypefsdd8ssycr6th'), ('sender', 'erd1qyu5wthldzr8wx5c9ucg8kjagg0jfs53s8nr3zpz3hypefsdd8ssycr6th'), ('gasPrice', 1000000000), ('gasLimit', 10000000), ('data', 'TXVsdGlFU0RUTkZUVHJhbnNmZXJAMDAwMDAwMDAwMDAwMDAwMDA1MDBlMGI3N2YxZWRmYjAxY2I3ODZhMzkxMjBmMDJjMzFmZjVmZTQwYWFkODk3NEAwMkA1NDQ1NTM1NDJkMzMzODY2MzIzNDM5QDAxQDAxQDQyNDE1MjJkNjMzODMwNjQzMjM5QEA4YWM3MjMwNDg5ZTgwMDAwQDY4NjU2YzZjNmZAMmFANzQ2NTczNzRAODA0OWQ2MzllNWE2OTgwZDFjZDIzOTJhYmNjZTQxMDI5Y2RhNzRhMTU2MzUyM2EyMDJmMDk2NDFjYzI2MThmOA=='), ('chainID', 'D'), ('version', 2), ('signature', '')])\n",
      "Transaction data: MultiESDTNFTTransfer@00000000000000000500e0b77f1edfb01cb786a39120f02c31ff5fe40aad8974@02@544553542d333866323439@01@01@4241522d633830643239@@8ac7230489e80000@68656c6c6f@2a@74657374@8049d639e5a6980d1cd2392abcce41029cda74a1563523a202f09641cc2618f8\n"
     ]
    }
   ],
   "source": [
    "transfers = [\n",
    "    TokenPayment.non_fungible(\"TEST-38f249\", 1),\n",
    "    TokenPayment.fungible_from_amount(\"BAR-c80d29\", \"10.00\", 18)\n",
    "]\n",
    "\n",
    "builder = ContractCallBuilder(\n",
    "    config,\n",
    "    contract=contract_address,\n",
    "    function_name=\"hello\",\n",
    "    caller=alice,\n",
    "    call_arguments=[42, \"test\", bob],\n",
    "    gas_limit=10000000,\n",
    "    esdt_transfers=transfers\n",
    ")\n",
    "\n",
    "tx = builder.build()\n",
    "print(\"Transaction:\", tx.to_dictionary())\n",
    "print(\"Transaction data:\", tx.data)\n"
   ]
  },
  {
   "cell_type": "markdown",
   "metadata": {},
   "source": [
    "## Contract queries"
   ]
  },
  {
   "cell_type": "markdown",
   "metadata": {},
   "source": [
    "In order to create a contract query and run it against a network provider (more details about **network providers** can be found below), do as follows:"
   ]
  },
  {
   "cell_type": "code",
   "execution_count": 145,
   "metadata": {},
   "outputs": [
    {
     "name": "stdout",
     "output_type": "stream",
     "text": [
      "Return code: ok\n",
      "Return data: ['LQ==']\n"
     ]
    }
   ],
   "source": [
    "from multiversx_sdk_core import ContractQueryBuilder\n",
    "from multiversx_sdk_core.interfaces import IAddress\n",
    "from multiversx_sdk_network_providers import ApiNetworkProvider\n",
    "\n",
    "contract: IAddress = Address.from_bech32(\"erd1qqqqqqqqqqqqqpgqnzm7yhayarylux045qlm4lgzmtcsgrqg396qr9kupx\")\n",
    "\n",
    "builder = ContractQueryBuilder(\n",
    "    contract=contract,\n",
    "    function=\"getSum\",\n",
    "    call_arguments=[],\n",
    "    caller=alice\n",
    ")\n",
    "\n",
    "query = builder.build()\n",
    "\n",
    "network_provider = ApiNetworkProvider(\"https://devnet-api.multiversx.com\")\n",
    "response = network_provider.query_contract(query)\n",
    "\n",
    "print(\"Return code:\", response.return_code)\n",
    "print(\"Return data:\", response.return_data)\n"
   ]
  },
  {
   "cell_type": "markdown",
   "metadata": {},
   "source": [
    "## Creating wallets"
   ]
  },
  {
   "cell_type": "markdown",
   "metadata": {},
   "source": [
    "Mnemonic generation is based on [`trezor/python-mnemonic`](https://github.com/trezor/python-mnemonic) and can be achieved as follows:"
   ]
  },
  {
   "cell_type": "code",
   "execution_count": 146,
   "metadata": {},
   "outputs": [
    {
     "name": "stdout",
     "output_type": "stream",
     "text": [
      "['shallow', 'seed', 'final', 'slide', 'south', 'kiwi', 'all', 'used', 'mom', 'song', 'transfer', 'vital', 'stuff', 'divide', 'laundry', 'caught', 'aisle', 'reflect', 'fuel', 'large', 'walk', 'elite', 'alarm', 'sock']\n"
     ]
    }
   ],
   "source": [
    "from multiversx_sdk_wallet import Mnemonic\n",
    "\n",
    "mnemonic = Mnemonic.generate()\n",
    "words = mnemonic.get_words()\n",
    "\n",
    "print(words)\n"
   ]
  },
  {
   "attachments": {},
   "cell_type": "markdown",
   "metadata": {},
   "source": [
    "The mnemonic can be saved to a keystore file:"
   ]
  },
  {
   "cell_type": "code",
   "execution_count": 147,
   "metadata": {},
   "outputs": [],
   "source": [
    "from multiversx_sdk_wallet import UserWallet\n",
    "\n",
    "wallet = UserWallet.from_mnemonic(mnemonic.get_text(), \"password\")\n",
    "wallet.save(Path(\"./output/walletWithMnemonic.json\"))\n"
   ]
  },
  {
   "cell_type": "markdown",
   "metadata": {},
   "source": [
    "Given a mnemonic, one can derive keypairs:"
   ]
  },
  {
   "cell_type": "code",
   "execution_count": 148,
   "metadata": {},
   "outputs": [
    {
     "name": "stdout",
     "output_type": "stream",
     "text": [
      "Secret key 7d966af37adfb4afdfdd3f57b840e22e5ea012a265a4a0eaaf23aa286648b606\n",
      "Public key d66b160e7c0626b723e64a4d3c7f82cade014b5b4b7f28eead2ac755840fa1ac\n"
     ]
    }
   ],
   "source": [
    "secret_key = mnemonic.derive_key(0)\n",
    "public_key = secret_key.generate_public_key()\n",
    "\n",
    "print(\"Secret key\", secret_key.hex())\n",
    "print(\"Public key\", public_key.hex())\n"
   ]
  },
  {
   "attachments": {},
   "cell_type": "markdown",
   "metadata": {},
   "source": [
    "A keypair can be saved as a JSON wallet:"
   ]
  },
  {
   "cell_type": "code",
   "execution_count": 149,
   "metadata": {},
   "outputs": [],
   "source": [
    "wallet = UserWallet.from_secret_key(secret_key, \"password\")\n",
    "wallet.save(Path(\"./output/wallet.json\"), address_hrp=\"erd\")\n"
   ]
  },
  {
   "cell_type": "markdown",
   "metadata": {},
   "source": [
    "... or as a PEM wallet (usually not recommended):"
   ]
  },
  {
   "cell_type": "code",
   "execution_count": 150,
   "metadata": {},
   "outputs": [],
   "source": [
    "from multiversx_sdk_wallet import UserPEM\n",
    "\n",
    "label = Address(public_key.buffer, \"erd\").bech32()\n",
    "pem = UserPEM(label=label, secret_key=secret_key)\n",
    "pem.save(Path(\"./output/wallet.pem\"))\n"
   ]
  },
  {
   "cell_type": "markdown",
   "metadata": {},
   "source": [
    "## Loading wallets"
   ]
  },
  {
   "cell_type": "markdown",
   "metadata": {},
   "source": [
    "This is not a very common use-case - you might refer to [signing objects](#signing-objects) instead."
   ]
  },
  {
   "attachments": {},
   "cell_type": "markdown",
   "metadata": {},
   "source": [
    "Load a keystore that holds an **encrypted mnemonic** (and perform wallet derivation at the same time):"
   ]
  },
  {
   "cell_type": "code",
   "execution_count": 151,
   "metadata": {},
   "outputs": [
    {
     "name": "stdout",
     "output_type": "stream",
     "text": [
      "Secret key 413f42575f7f26fad3317a778771212fdb80245850981e48b58a4f25e344e8f9\n",
      "Address erd1qyu5wthldzr8wx5c9ucg8kjagg0jfs53s8nr3zpz3hypefsdd8ssycr6th\n"
     ]
    }
   ],
   "source": [
    "from multiversx_sdk_wallet import UserWallet\n",
    "\n",
    "secret_key = UserWallet.load_secret_key(Path(\"./testwallets/withMnemonic.json\"), \"password\", address_index=0)\n",
    "address = secret_key.generate_public_key().to_address(\"erd\")\n",
    "\n",
    "print(\"Secret key\", secret_key.hex())\n",
    "print(\"Address\", address)\n"
   ]
  },
  {
   "attachments": {},
   "cell_type": "markdown",
   "metadata": {},
   "source": [
    "Load a keystore that holds an **encrypted secret** key:"
   ]
  },
  {
   "cell_type": "code",
   "execution_count": 152,
   "metadata": {},
   "outputs": [
    {
     "name": "stdout",
     "output_type": "stream",
     "text": [
      "Secret key 413f42575f7f26fad3317a778771212fdb80245850981e48b58a4f25e344e8f9\n",
      "Address erd1qyu5wthldzr8wx5c9ucg8kjagg0jfs53s8nr3zpz3hypefsdd8ssycr6th\n"
     ]
    }
   ],
   "source": [
    "secret_key = UserWallet.load_secret_key(Path(\"./testwallets/alice.json\"), \"password\")\n",
    "address = secret_key.generate_public_key().to_address(\"erd\")\n",
    "\n",
    "print(\"Secret key\", secret_key.hex())\n",
    "print(\"Address\", address)\n"
   ]
  },
  {
   "attachments": {},
   "cell_type": "markdown",
   "metadata": {},
   "source": [
    "Load the secret key from a PEM file:"
   ]
  },
  {
   "cell_type": "code",
   "execution_count": 153,
   "metadata": {},
   "outputs": [
    {
     "name": "stdout",
     "output_type": "stream",
     "text": [
      "Secret key 413f42575f7f26fad3317a778771212fdb80245850981e48b58a4f25e344e8f9\n",
      "Public key 0139472eff6886771a982f3083da5d421f24c29181e63888228dc81ca60d69e1\n"
     ]
    }
   ],
   "source": [
    "from multiversx_sdk_wallet import UserPEM\n",
    "\n",
    "pem = UserPEM.from_file(Path(\"./testwallets/alice.pem\"))\n",
    "\n",
    "print(\"Secret key\", pem.secret_key.hex())\n",
    "print(\"Public key\", pem.public_key.hex())\n"
   ]
  },
  {
   "cell_type": "markdown",
   "metadata": {},
   "source": [
    "## Signing objects"
   ]
  },
  {
   "cell_type": "markdown",
   "metadata": {},
   "source": [
    "Creating a `UserSigner` from a JSON wallet:"
   ]
  },
  {
   "cell_type": "code",
   "execution_count": 154,
   "metadata": {},
   "outputs": [],
   "source": [
    "from multiversx_sdk_wallet import UserSigner\n",
    "\n",
    "signer = UserSigner.from_wallet(Path(\"./testwallets/alice.json\"), \"password\")\n"
   ]
  },
  {
   "cell_type": "markdown",
   "metadata": {},
   "source": [
    "Creating a `UserSigner` from a PEM file:"
   ]
  },
  {
   "cell_type": "code",
   "execution_count": 155,
   "metadata": {},
   "outputs": [],
   "source": [
    "signer = UserSigner.from_pem_file(Path(\"./testwallets/alice.pem\"))\n"
   ]
  },
  {
   "cell_type": "markdown",
   "metadata": {},
   "source": [
    "Signable objects (messages, transactions) must adhere to the following interface:\n",
    "```\n",
    "class ISignable(Protocol):\n",
    "    def serialize_for_signing(self) -> bytes: ...\n",
    "```\n",
    "\n",
    "Both `Transaction` and `Message` - defined in `multiversx_sdk_core` - implement `ISignable`."
   ]
  },
  {
   "cell_type": "markdown",
   "metadata": {},
   "source": [
    "Signing a transaction:"
   ]
  },
  {
   "cell_type": "code",
   "execution_count": 156,
   "metadata": {},
   "outputs": [
    {
     "name": "stdout",
     "output_type": "stream",
     "text": [
      "Signature 762e224eb5b8f2e801c2f0ea5ca1fb0aa08d4566a04f3846b250e222b76cd5d2141f5f131afecda9a3c5433f41790f33c45a559bea9a7d28ba964308fbcbfd0e\n"
     ]
    }
   ],
   "source": [
    "from multiversx_sdk_core import Transaction\n",
    "\n",
    "tx = Transaction(\n",
    "    nonce=90,\n",
    "    sender=Address.from_bech32(\"erd1qyu5wthldzr8wx5c9ucg8kjagg0jfs53s8nr3zpz3hypefsdd8ssycr6th\"),\n",
    "    receiver=Address.from_bech32(\"erd1spyavw0956vq68xj8y4tenjpq2wd5a9p2c6j8gsz7ztyrnpxrruqzu66jx\"),\n",
    "    value=TokenPayment.egld_from_amount(\"1.0\"),\n",
    "    gas_limit=50000,\n",
    "    gas_price=1000000000,\n",
    "    chain_id=\"D\",\n",
    "    version=1\n",
    ")\n",
    "\n",
    "tx.signature = signer.sign(tx.serialize_for_signing())\n",
    "print(\"Signature\", tx.signature.hex())\n"
   ]
  },
  {
   "cell_type": "markdown",
   "metadata": {},
   "source": [
    "Signing an arbitrary message:"
   ]
  },
  {
   "cell_type": "code",
   "execution_count": 157,
   "metadata": {},
   "outputs": [
    {
     "name": "stdout",
     "output_type": "stream",
     "text": [
      "Signature 66dd503199222d3104cb5381da953b14c895ca564579f98934c4e54a45d75f097da2a0c30060c0e7d014928b8e54509335cadc69b2bb1940cd59bd0c1bb80b0b\n"
     ]
    }
   ],
   "source": [
    "from multiversx_sdk_core import MessageV1\n",
    "\n",
    "message = MessageV1.from_string(\"hello\")\n",
    "message.signature = signer.sign(message.data)\n",
    "\n",
    "print(\"Signature\", message.signature.hex())\n"
   ]
  },
  {
   "cell_type": "markdown",
   "metadata": {},
   "source": [
    "## Verifying signatures"
   ]
  },
  {
   "cell_type": "markdown",
   "metadata": {},
   "source": [
    "Creating a `UserVerifier`:"
   ]
  },
  {
   "cell_type": "code",
   "execution_count": 158,
   "metadata": {},
   "outputs": [],
   "source": [
    "from multiversx_sdk_core import Address\n",
    "from multiversx_sdk_wallet import UserVerifier\n",
    "\n",
    "alice = Address.from_bech32(\"erd1qyu5wthldzr8wx5c9ucg8kjagg0jfs53s8nr3zpz3hypefsdd8ssycr6th\")\n",
    "bob = Address.from_bech32(\"erd1spyavw0956vq68xj8y4tenjpq2wd5a9p2c6j8gsz7ztyrnpxrruqzu66jx\")\n",
    "alice_verifier = UserVerifier.from_address(alice)\n",
    "bob_verifier = UserVerifier.from_address(bob)\n"
   ]
  },
  {
   "cell_type": "markdown",
   "metadata": {},
   "source": [
    "For objects to support signature verification, they must adhere to the following interface:\n",
    "\n",
    "```\n",
    "class IVerifiable(Protocol):\n",
    "    signature: ISignature\n",
    "    def serialize_for_signing(self) -> bytes: ...\n",
    "```\n",
    "\n",
    "Both `Transaction` and `Message` - defined in `multiversx_sdk_core` - implement `IVerifiable`."
   ]
  },
  {
   "cell_type": "markdown",
   "metadata": {},
   "source": [
    "Verifying a signature:"
   ]
  },
  {
   "cell_type": "code",
   "execution_count": 171,
   "metadata": {},
   "outputs": [
    {
     "name": "stdout",
     "output_type": "stream",
     "text": [
      "Is signature of Alice? True\n",
      "Is signature of Alice? True\n",
      "Is signature of Bob? False\n",
      "Is signature of Bob? False\n"
     ]
    }
   ],
   "source": [
    "print(f\"Is signature of Alice?\", alice_verifier.verify(tx.serialize_for_signing(), tx.signature))\n",
    "print(f\"Is signature of Alice?\", alice_verifier.verify(message.data, message.signature))\n",
    "print(f\"Is signature of Bob?\", bob_verifier.verify(tx.serialize_for_signing(), tx.signature))\n",
    "print(f\"Is signature of Bob?\", bob_verifier.verify(message.data, message.signature))\n"
   ]
  },
  {
   "cell_type": "markdown",
   "metadata": {},
   "source": [
    "## Creating network providers"
   ]
  },
  {
   "cell_type": "markdown",
   "metadata": {},
   "source": [
    "It's recommended to use the `multiversx_sdk_network_providers` components **as a starting point**. As your application matures, switch to using your own network provider (e.g. deriving from the default ones), tailored to your requirements."
   ]
  },
  {
   "cell_type": "markdown",
   "metadata": {},
   "source": [
    "Creating an API provider:"
   ]
  },
  {
   "cell_type": "code",
   "execution_count": 160,
   "metadata": {},
   "outputs": [],
   "source": [
    "from multiversx_sdk_network_providers import ApiNetworkProvider\n",
    "\n",
    "provider = ApiNetworkProvider(\"https://devnet-api.multiversx.com\")\n"
   ]
  },
  {
   "cell_type": "markdown",
   "metadata": {},
   "source": [
    "Creating a Proxy provider:"
   ]
  },
  {
   "cell_type": "code",
   "execution_count": 161,
   "metadata": {},
   "outputs": [],
   "source": [
    "from multiversx_sdk_network_providers import ProxyNetworkProvider\n",
    "\n",
    "provider = ProxyNetworkProvider(\"https://devnet-gateway.multiversx.com\")\n"
   ]
  },
  {
   "cell_type": "markdown",
   "metadata": {},
   "source": [
    "## Fetching network parameters"
   ]
  },
  {
   "cell_type": "markdown",
   "metadata": {},
   "source": [
    "In order to fetch network parameters, do as follows:"
   ]
  },
  {
   "cell_type": "code",
   "execution_count": 162,
   "metadata": {},
   "outputs": [
    {
     "name": "stdout",
     "output_type": "stream",
     "text": [
      "Chain ID D\n",
      "Min gas price: 1000000000\n"
     ]
    }
   ],
   "source": [
    "config = provider.get_network_config()\n",
    "\n",
    "print(\"Chain ID\", config.chain_id)\n",
    "print(\"Min gas price:\", config.min_gas_price)\n"
   ]
  },
  {
   "cell_type": "markdown",
   "metadata": {},
   "source": [
    "## Fetching account state"
   ]
  },
  {
   "cell_type": "markdown",
   "metadata": {},
   "source": [
    "The following snippet fetches (from the Network) the **nonce** and the **balance** of an account:"
   ]
  },
  {
   "cell_type": "code",
   "execution_count": 163,
   "metadata": {},
   "outputs": [
    {
     "name": "stdout",
     "output_type": "stream",
     "text": [
      "Nonce 17301\n",
      "Balance 15661807888855972487\n"
     ]
    }
   ],
   "source": [
    "account_on_network = provider.get_account(alice)\n",
    "\n",
    "print(\"Nonce\", account_on_network.nonce)\n",
    "print(\"Balance\", account_on_network.balance)\n"
   ]
  },
  {
   "cell_type": "markdown",
   "metadata": {},
   "source": [
    "When sending a number of transactions, you usually have to first fetch the account nonce from the network (see above), then manage it locally (e.g. increment upon signing & broadcasting a transaction):"
   ]
  },
  {
   "cell_type": "code",
   "execution_count": 164,
   "metadata": {},
   "outputs": [],
   "source": [
    "from multiversx_sdk_core import AccountNonceHolder\n",
    "\n",
    "nonce_holder = AccountNonceHolder(account_on_network.nonce)\n",
    "\n",
    "tx.nonce = nonce_holder.get_nonce_then_increment()\n",
    "# Then, sign & broadcast the transaction(s).\n"
   ]
  },
  {
   "cell_type": "markdown",
   "metadata": {},
   "source": [
    "For further reference, please see [nonce management](https://docs.multiversx.com/integrators/creating-transactions/#nonce-management)."
   ]
  },
  {
   "cell_type": "markdown",
   "metadata": {},
   "source": [
    "## Broadcasting transactions"
   ]
  },
  {
   "cell_type": "markdown",
   "metadata": {},
   "source": [
    "Broadcast a single transaction:"
   ]
  },
  {
   "cell_type": "code",
   "execution_count": 165,
   "metadata": {},
   "outputs": [
    {
     "name": "stdout",
     "output_type": "stream",
     "text": [
      "Transaction hash: 4a3a1cfcc1fe1bebe1de780d506c6e514c9b8e966632d9e621c187f50a660a8c\n"
     ]
    }
   ],
   "source": [
    "alice = Address.from_bech32(\"erd1qyu5wthldzr8wx5c9ucg8kjagg0jfs53s8nr3zpz3hypefsdd8ssycr6th\")\n",
    "\n",
    "tx = Transaction(\n",
    "    sender=alice,\n",
    "    receiver=alice,\n",
    "    gas_limit=50000,\n",
    "    chain_id=\"D\"\n",
    ")\n",
    "\n",
    "alice_on_network = provider.get_account(alice)\n",
    "\n",
    "tx.nonce = alice_on_network.nonce\n",
    "tx.signature = signer.sign(tx.serialize_for_signing())\n",
    "\n",
    "hash = provider.send_transaction(tx)\n",
    "print(\"Transaction hash:\", hash)\n"
   ]
  },
  {
   "cell_type": "markdown",
   "metadata": {},
   "source": [
    "Broadcast multiple transactions:"
   ]
  },
  {
   "cell_type": "code",
   "execution_count": 166,
   "metadata": {},
   "outputs": [
    {
     "name": "stdout",
     "output_type": "stream",
     "text": [
      "Transactions hashes: (3, {'0': '4a3a1cfcc1fe1bebe1de780d506c6e514c9b8e966632d9e621c187f50a660a8c', '1': 'a7a19cea88604b8e5f2a4742589ebae1e006fa0026fd76d036649b0f72508a9c', '2': '686e3d82dbbaee8f04ae4d82431d65fb0472befbae754a74be1ecdafc1e6a8d1'})\n"
     ]
    }
   ],
   "source": [
    "tx_1 = Transaction(\n",
    "    sender=alice,\n",
    "    receiver=alice,\n",
    "    gas_limit=50000,\n",
    "    chain_id=\"D\"\n",
    ")\n",
    "\n",
    "tx_2 = Transaction(\n",
    "    sender=alice,\n",
    "    receiver=alice,\n",
    "    gas_limit=50000,\n",
    "    chain_id=\"D\"\n",
    ")\n",
    "\n",
    "tx_3 = Transaction(\n",
    "    sender=alice,\n",
    "    receiver=alice,\n",
    "    gas_limit=50000,\n",
    "    chain_id=\"D\"\n",
    ")\n",
    "\n",
    "alice_on_network = provider.get_account(alice)\n",
    "nonce_holder = AccountNonceHolder(account_on_network.nonce)\n",
    "\n",
    "tx_1.nonce = nonce_holder.get_nonce_then_increment()\n",
    "tx_2.nonce = nonce_holder.get_nonce_then_increment()\n",
    "tx_3.nonce = nonce_holder.get_nonce_then_increment()\n",
    "\n",
    "tx_1.signature = signer.sign(tx_1.serialize_for_signing())\n",
    "tx_2.signature = signer.sign(tx_2.serialize_for_signing())\n",
    "tx_3.signature = signer.sign(tx_3.serialize_for_signing())\n",
    "\n",
    "hashes = provider.send_transactions([tx_1, tx_2, tx_3])\n",
    "print(\"Transactions hashes:\", hashes)\n"
   ]
  },
  {
   "cell_type": "markdown",
   "metadata": {},
   "source": [
    "Now let's fetch a previously-broadcasted transaction:"
   ]
  },
  {
   "cell_type": "code",
   "execution_count": 167,
   "metadata": {},
   "outputs": [
    {
     "name": "stdout",
     "output_type": "stream",
     "text": [
      "Status: success\n",
      "Is completed: True\n"
     ]
    }
   ],
   "source": [
    "tx_on_network = provider.get_transaction(\"09e3b68d39f3759913239b927c7feb9ac871c8877e76bc56e1be45a2a597eb53\", with_process_status=True)\n",
    "print(\"Status:\", tx_on_network.status)\n",
    "print(\"Is completed:\", tx_on_network.is_completed)\n"
   ]
  }
 ],
 "metadata": {
  "kernelspec": {
   "display_name": "venv",
   "language": "python",
   "name": "python3"
  },
  "language_info": {
   "codemirror_mode": {
    "name": "ipython",
    "version": 3
   },
   "file_extension": ".py",
   "mimetype": "text/x-python",
   "name": "python",
   "nbconvert_exporter": "python",
   "pygments_lexer": "ipython3",
   "version": "3.11.4"
  },
  "orig_nbformat": 4,
  "vscode": {
   "interpreter": {
    "hash": "a81f6786c16244bc0f6c6471fabecdd0e4c33960b50c66ebff3e0612ad1f5926"
   }
  }
 },
 "nbformat": 4,
 "nbformat_minor": 2
}
